{
  "cells": [
    {
      "cell_type": "markdown",
      "metadata": {
        "id": "view-in-github",
        "colab_type": "text"
      },
      "source": [
        "<a href=\"https://colab.research.google.com/github/Ahmad162539/Ahmaaaaad/blob/main/0_Data_processing_spatio_temporal.ipynb\" target=\"_parent\"><img src=\"https://colab.research.google.com/assets/colab-badge.svg\" alt=\"Open In Colab\"/></a>"
      ]
    },
    {
      "cell_type": "markdown",
      "id": "c3d378c3",
      "metadata": {
        "id": "c3d378c3"
      },
      "source": [
        "# Data Preprocessing"
      ]
    },
    {
      "cell_type": "markdown",
      "id": "0bc46d53",
      "metadata": {
        "id": "0bc46d53"
      },
      "source": [
        "## 0. Import libraries"
      ]
    },
    {
      "cell_type": "code",
      "execution_count": 7,
      "id": "813caddf",
      "metadata": {
        "id": "813caddf"
      },
      "outputs": [],
      "source": [
        "import os\n",
        "import pandas as pd\n",
        "import numpy as np\n",
        "import matplotlib.pyplot as plt\n",
        "import cv2 as cv\n",
        "from sklearn.preprocessing import MinMaxScaler\n",
        "from tensorflow.keras.preprocessing.sequence import pad_sequences\n",
        "from scipy.interpolate import interp1d"
      ]
    },
    {
      "cell_type": "markdown",
      "id": "d112ff2c",
      "metadata": {
        "id": "d112ff2c"
      },
      "source": [
        "## 1. Load dataset"
      ]
    },
    {
      "cell_type": "code",
      "execution_count": 13,
      "id": "8c710b28",
      "metadata": {
        "colab": {
          "base_uri": "https://localhost:8080/",
          "height": 73
        },
        "id": "8c710b28",
        "outputId": "1f37a174-bfea-4ca4-acc4-c1b7c17df832"
      },
      "outputs": [
        {
          "output_type": "execute_result",
          "data": {
            "text/plain": [
              "\"\\ndf_titles = ['LFP_25C_0.5-1C_a', 'LFP_25C_0.5-1C_b', 'LFP_25C_0.5-1C_c', 'LFP_25C_0.5-1C_d',\\n             'NCA_25C_0.5-1C_a', 'NCA_25C_0.5-1C_b', 'NCA_25C_0.5-1C_c', 'NCA_25C_0.5-1C_d',\\n             'NMC_25C_0.5-1C_a', 'NMC_25C_0.5-1C_b', 'NMC_25C_0.5-1C_c', 'NMC_25C_0.5-1C_d']\\n\""
            ],
            "application/vnd.google.colaboratory.intrinsic+json": {
              "type": "string"
            }
          },
          "metadata": {},
          "execution_count": 13
        }
      ],
      "source": [
        "df1c = pd.read_csv('/home/sbml/battery_rgb/paper_data/raw_data/lfp/25C/SNL_18650_LFP_25C_0-100_0.5-1C_a_cycle_data.csv')\n",
        "df1t = pd.read_csv('/home/sbml/battery_rgb/paper_data/raw_data/lfp/25C/SNL_18650_LFP_25C_0-100_0.5-1C_a_timeseries.csv')\n",
        "df2c = pd.read_csv('/home/sbml/battery_rgb/paper_data/raw_data/lfp/25C/SNL_18650_NCA_25C_0-100_0.5-1C_a_cycle_data.csv')\n",
        "df2t = pd.read_csv('/home/sbml/battery_rgb/paper_data/raw_data/lfp/25C/SNL_18650_NCA_25C_0-100_0.5-1C_a_timeseries.csv')\n",
        "df3c = pd.read_csv('/home/sbml/battery_rgb/paper_data/raw_data/lfp/25C/SNL_18650_NMC_25C_0-100_0.5-1C_a_cycle_data.csv')\n",
        "df3t = pd.read_csv('/home/sbml/battery_rgb/paper_data/raw_data/lfp/25C/SNL_18650_NMC_25C_0-100_0.5-1C_a_timeseries.csv')\n",
        "\n",
        "df_tlist = [df1t, df2t, df3t]\n",
        "df_clist = [df1c, df2c, df3c]\n",
        "\n",
        "df_titles = ['LFP_25C_0.5-1C_a', 'NCA_25C_0.5-1C_a', 'NMC_25C_0.5-1C_a']\n",
        "\n",
        "'''\n",
        "df_titles = ['LFP_25C_0.5-1C_a', 'LFP_25C_0.5-1C_b', 'LFP_25C_0.5-1C_c', 'LFP_25C_0.5-1C_d',\n",
        "             'NCA_25C_0.5-1C_a', 'NCA_25C_0.5-1C_b', 'NCA_25C_0.5-1C_c', 'NCA_25C_0.5-1C_d',\n",
        "             'NMC_25C_0.5-1C_a', 'NMC_25C_0.5-1C_b', 'NMC_25C_0.5-1C_c', 'NMC_25C_0.5-1C_d']\n",
        "'''"
      ]
    },
    {
      "cell_type": "code",
      "execution_count": 14,
      "id": "db18646f",
      "metadata": {
        "colab": {
          "base_uri": "https://localhost:8080/"
        },
        "id": "db18646f",
        "outputId": "d4e95b46-8fe5-4dc0-c59e-f43ea2999cd7"
      },
      "outputs": [
        {
          "output_type": "stream",
          "name": "stdout",
          "text": [
            "3545.0\n",
            "654.0\n",
            "521.0\n"
          ]
        }
      ],
      "source": [
        "for i in df_clist:\n",
        "    print(max(i['Cycle_Index']))"
      ]
    },
    {
      "cell_type": "markdown",
      "id": "890b5e95",
      "metadata": {
        "id": "890b5e95"
      },
      "source": [
        "## 2. Make Dataframe"
      ]
    },
    {
      "cell_type": "code",
      "execution_count": 15,
      "id": "2edccbcf",
      "metadata": {
        "id": "2edccbcf"
      },
      "outputs": [],
      "source": [
        "scaler = MinMaxScaler()\n",
        "\n",
        "rgb_list = []\n",
        "Test_time_list = []\n",
        "title_list = []\n",
        "cap_list = []\n",
        "cycle_list = []\n",
        "soh_list = []\n",
        "rgb_length_padd = []\n",
        "scaled_rgb = []\n",
        "for cnt in range(0, len(df_tlist)):\n",
        "\n",
        "    df = df_tlist[cnt]\n",
        "    df_cap = df_clist[cnt]\n",
        "\n",
        "    cycle_index = df['Cycle_Index'].tolist()\n",
        "    cycle_index = list(set(cycle_index))\n",
        "    cap_cycle = df_cap['Discharge_Capacity (Ah)'].tolist()\n",
        "    cap_initial = cap_cycle[0]\n",
        "\n",
        "    for i in range(1,len(cycle_index)+1):\n",
        "        cap = cap_cycle[i-1]\n",
        "        df2 = df[df['Cycle_Index'] == i]\n",
        "        r = df2['Voltage (V)'].tolist()\n",
        "        g = df2['Current (A)'].tolist()\n",
        "        b = df2['Cell_Temperature (C)'].tolist()\n",
        "        x = df2['Test_Time (s)'].tolist()\n",
        "        rgb = [(r[i], g[i], b[i]) for i in range(len(x))]\n",
        "        soh = cap/cap_initial\n",
        "\n",
        "        if r == [] or g == [] or b == [] :\n",
        "            r2b2g2 = rgb\n",
        "        else:\n",
        "\n",
        "            r2 = scaler.fit_transform(np.array(r).reshape(-1,1)).reshape(1,-1).tolist()[0]\n",
        "            g2 = scaler.fit_transform(np.array(g).reshape(-1,1)).reshape(1,-1).tolist()[0]\n",
        "            b2 = scaler.fit_transform(np.array(b).reshape(-1,1)).reshape(1,-1).tolist()[0]\n",
        "            r2b2g2 = [(int(r2[cnt]*255), int(g2[cnt]*255), int(b2[cnt]*255)) for cnt in range(len(r2))]\n",
        "\n",
        "\n",
        "\n",
        "        rgb_length_padd.append(len(rgb))\n",
        "        soh_list.append(soh)\n",
        "        cycle_list.append(i)\n",
        "        cap_list.append(cap)\n",
        "        rgb_list.append((rgb))\n",
        "        title_list.append(df_titles[cnt])\n",
        "        scaled_rgb.append(r2b2g2)"
      ]
    },
    {
      "cell_type": "code",
      "execution_count": 17,
      "id": "829b3eb1",
      "metadata": {
        "scrolled": true,
        "colab": {
          "base_uri": "https://localhost:8080/",
          "height": 814
        },
        "id": "829b3eb1",
        "outputId": "db32a559-54be-48da-829b-9a8878727def"
      },
      "outputs": [
        {
          "output_type": "execute_result",
          "data": {
            "text/plain": [
              "               Dataset  #cycle  Capacity(dis)       SOH  \\\n",
              "0     LFP_25C_0.5-1C_a       1          1.032  1.000000   \n",
              "1     LFP_25C_0.5-1C_a       2          1.034  1.001938   \n",
              "2     LFP_25C_0.5-1C_a       3          1.035  1.002907   \n",
              "3     LFP_25C_0.5-1C_a       4          2.064  2.000000   \n",
              "4     LFP_25C_0.5-1C_a       5          1.032  1.000000   \n",
              "...                ...     ...            ...       ...   \n",
              "4712  NMC_25C_0.5-1C_a     516          2.357  0.794405   \n",
              "4713  NMC_25C_0.5-1C_a     517          2.365  0.797101   \n",
              "4714  NMC_25C_0.5-1C_a     518          2.365  0.797101   \n",
              "4715  NMC_25C_0.5-1C_a     519          2.365  0.797101   \n",
              "4716  NMC_25C_0.5-1C_a     520          0.000  0.000000   \n",
              "\n",
              "                                                    RGB  \\\n",
              "0     [(2.867, 0.0, 25.417), (2.867, 0.0, 25.417), (...   \n",
              "1     [(2.715, 0.549, 25.234), (2.725, 0.549, 25.31)...   \n",
              "2     [(2.723, 0.549, 25.158), (2.733, 0.549, 25.234...   \n",
              "3     [(2.7, 0.0, 25.142), (2.7, 0.0, 25.142), (2.99...   \n",
              "4     [(2.956, 0.549, 26.425), (3.089, 0.549, 25.998...   \n",
              "...                                                 ...   \n",
              "4712  [(3.27, 1.499, 29.415), (3.444, 1.499, 28.416)...   \n",
              "4713  [(3.27, 1.499, 29.429), (3.445, 1.499, 28.505)...   \n",
              "4714  [(1.994, 0.0, 30.034), (1.994, 0.0, 30.034), (...   \n",
              "4715  [(2.858, 1.499, 25.838), (2.872, 1.499, 25.838...   \n",
              "4716  [(2.858, 1.499, 25.899), (2.87, 1.499, 25.975)...   \n",
              "\n",
              "                                             scaled_RGB  RGB_length  \n",
              "0     [(138, 127, 165), (138, 127, 165), (138, 127, ...        1438  \n",
              "1     [(114, 254, 139), (115, 254, 157), (117, 254, ...        1451  \n",
              "2     [(115, 254, 106), (117, 254, 121), (118, 254, ...        1452  \n",
              "3     [(112, 170, 59), (112, 170, 59), (158, 255, 61...         185  \n",
              "4     [(152, 255, 237), (174, 255, 170), (187, 255, ...          91  \n",
              "...                                                 ...         ...  \n",
              "4712  [(147, 255, 217), (167, 255, 167), (178, 255, ...          80  \n",
              "4713  [(147, 255, 224), (167, 255, 177), (178, 255, ...          80  \n",
              "4714  [(0, 127, 238), (0, 127, 238), (27, 255, 236),...        1257  \n",
              "4715  [(99, 255, 94), (101, 255, 94), (102, 255, 94)...        1216  \n",
              "4716  [(99, 255, 101), (100, 255, 110), (102, 255, 1...        1215  \n",
              "\n",
              "[4717 rows x 7 columns]"
            ],
            "text/html": [
              "\n",
              "  <div id=\"df-0f6574c4-fbe3-4d57-b855-a81b7938807b\">\n",
              "    <div class=\"colab-df-container\">\n",
              "      <div>\n",
              "<style scoped>\n",
              "    .dataframe tbody tr th:only-of-type {\n",
              "        vertical-align: middle;\n",
              "    }\n",
              "\n",
              "    .dataframe tbody tr th {\n",
              "        vertical-align: top;\n",
              "    }\n",
              "\n",
              "    .dataframe thead th {\n",
              "        text-align: right;\n",
              "    }\n",
              "</style>\n",
              "<table border=\"1\" class=\"dataframe\">\n",
              "  <thead>\n",
              "    <tr style=\"text-align: right;\">\n",
              "      <th></th>\n",
              "      <th>Dataset</th>\n",
              "      <th>#cycle</th>\n",
              "      <th>Capacity(dis)</th>\n",
              "      <th>SOH</th>\n",
              "      <th>RGB</th>\n",
              "      <th>scaled_RGB</th>\n",
              "      <th>RGB_length</th>\n",
              "    </tr>\n",
              "  </thead>\n",
              "  <tbody>\n",
              "    <tr>\n",
              "      <th>0</th>\n",
              "      <td>LFP_25C_0.5-1C_a</td>\n",
              "      <td>1</td>\n",
              "      <td>1.032</td>\n",
              "      <td>1.000000</td>\n",
              "      <td>[(2.867, 0.0, 25.417), (2.867, 0.0, 25.417), (...</td>\n",
              "      <td>[(138, 127, 165), (138, 127, 165), (138, 127, ...</td>\n",
              "      <td>1438</td>\n",
              "    </tr>\n",
              "    <tr>\n",
              "      <th>1</th>\n",
              "      <td>LFP_25C_0.5-1C_a</td>\n",
              "      <td>2</td>\n",
              "      <td>1.034</td>\n",
              "      <td>1.001938</td>\n",
              "      <td>[(2.715, 0.549, 25.234), (2.725, 0.549, 25.31)...</td>\n",
              "      <td>[(114, 254, 139), (115, 254, 157), (117, 254, ...</td>\n",
              "      <td>1451</td>\n",
              "    </tr>\n",
              "    <tr>\n",
              "      <th>2</th>\n",
              "      <td>LFP_25C_0.5-1C_a</td>\n",
              "      <td>3</td>\n",
              "      <td>1.035</td>\n",
              "      <td>1.002907</td>\n",
              "      <td>[(2.723, 0.549, 25.158), (2.733, 0.549, 25.234...</td>\n",
              "      <td>[(115, 254, 106), (117, 254, 121), (118, 254, ...</td>\n",
              "      <td>1452</td>\n",
              "    </tr>\n",
              "    <tr>\n",
              "      <th>3</th>\n",
              "      <td>LFP_25C_0.5-1C_a</td>\n",
              "      <td>4</td>\n",
              "      <td>2.064</td>\n",
              "      <td>2.000000</td>\n",
              "      <td>[(2.7, 0.0, 25.142), (2.7, 0.0, 25.142), (2.99...</td>\n",
              "      <td>[(112, 170, 59), (112, 170, 59), (158, 255, 61...</td>\n",
              "      <td>185</td>\n",
              "    </tr>\n",
              "    <tr>\n",
              "      <th>4</th>\n",
              "      <td>LFP_25C_0.5-1C_a</td>\n",
              "      <td>5</td>\n",
              "      <td>1.032</td>\n",
              "      <td>1.000000</td>\n",
              "      <td>[(2.956, 0.549, 26.425), (3.089, 0.549, 25.998...</td>\n",
              "      <td>[(152, 255, 237), (174, 255, 170), (187, 255, ...</td>\n",
              "      <td>91</td>\n",
              "    </tr>\n",
              "    <tr>\n",
              "      <th>...</th>\n",
              "      <td>...</td>\n",
              "      <td>...</td>\n",
              "      <td>...</td>\n",
              "      <td>...</td>\n",
              "      <td>...</td>\n",
              "      <td>...</td>\n",
              "      <td>...</td>\n",
              "    </tr>\n",
              "    <tr>\n",
              "      <th>4712</th>\n",
              "      <td>NMC_25C_0.5-1C_a</td>\n",
              "      <td>516</td>\n",
              "      <td>2.357</td>\n",
              "      <td>0.794405</td>\n",
              "      <td>[(3.27, 1.499, 29.415), (3.444, 1.499, 28.416)...</td>\n",
              "      <td>[(147, 255, 217), (167, 255, 167), (178, 255, ...</td>\n",
              "      <td>80</td>\n",
              "    </tr>\n",
              "    <tr>\n",
              "      <th>4713</th>\n",
              "      <td>NMC_25C_0.5-1C_a</td>\n",
              "      <td>517</td>\n",
              "      <td>2.365</td>\n",
              "      <td>0.797101</td>\n",
              "      <td>[(3.27, 1.499, 29.429), (3.445, 1.499, 28.505)...</td>\n",
              "      <td>[(147, 255, 224), (167, 255, 177), (178, 255, ...</td>\n",
              "      <td>80</td>\n",
              "    </tr>\n",
              "    <tr>\n",
              "      <th>4714</th>\n",
              "      <td>NMC_25C_0.5-1C_a</td>\n",
              "      <td>518</td>\n",
              "      <td>2.365</td>\n",
              "      <td>0.797101</td>\n",
              "      <td>[(1.994, 0.0, 30.034), (1.994, 0.0, 30.034), (...</td>\n",
              "      <td>[(0, 127, 238), (0, 127, 238), (27, 255, 236),...</td>\n",
              "      <td>1257</td>\n",
              "    </tr>\n",
              "    <tr>\n",
              "      <th>4715</th>\n",
              "      <td>NMC_25C_0.5-1C_a</td>\n",
              "      <td>519</td>\n",
              "      <td>2.365</td>\n",
              "      <td>0.797101</td>\n",
              "      <td>[(2.858, 1.499, 25.838), (2.872, 1.499, 25.838...</td>\n",
              "      <td>[(99, 255, 94), (101, 255, 94), (102, 255, 94)...</td>\n",
              "      <td>1216</td>\n",
              "    </tr>\n",
              "    <tr>\n",
              "      <th>4716</th>\n",
              "      <td>NMC_25C_0.5-1C_a</td>\n",
              "      <td>520</td>\n",
              "      <td>0.000</td>\n",
              "      <td>0.000000</td>\n",
              "      <td>[(2.858, 1.499, 25.899), (2.87, 1.499, 25.975)...</td>\n",
              "      <td>[(99, 255, 101), (100, 255, 110), (102, 255, 1...</td>\n",
              "      <td>1215</td>\n",
              "    </tr>\n",
              "  </tbody>\n",
              "</table>\n",
              "<p>4717 rows × 7 columns</p>\n",
              "</div>\n",
              "      <button class=\"colab-df-convert\" onclick=\"convertToInteractive('df-0f6574c4-fbe3-4d57-b855-a81b7938807b')\"\n",
              "              title=\"Convert this dataframe to an interactive table.\"\n",
              "              style=\"display:none;\">\n",
              "        \n",
              "  <svg xmlns=\"http://www.w3.org/2000/svg\" height=\"24px\"viewBox=\"0 0 24 24\"\n",
              "       width=\"24px\">\n",
              "    <path d=\"M0 0h24v24H0V0z\" fill=\"none\"/>\n",
              "    <path d=\"M18.56 5.44l.94 2.06.94-2.06 2.06-.94-2.06-.94-.94-2.06-.94 2.06-2.06.94zm-11 1L8.5 8.5l.94-2.06 2.06-.94-2.06-.94L8.5 2.5l-.94 2.06-2.06.94zm10 10l.94 2.06.94-2.06 2.06-.94-2.06-.94-.94-2.06-.94 2.06-2.06.94z\"/><path d=\"M17.41 7.96l-1.37-1.37c-.4-.4-.92-.59-1.43-.59-.52 0-1.04.2-1.43.59L10.3 9.45l-7.72 7.72c-.78.78-.78 2.05 0 2.83L4 21.41c.39.39.9.59 1.41.59.51 0 1.02-.2 1.41-.59l7.78-7.78 2.81-2.81c.8-.78.8-2.07 0-2.86zM5.41 20L4 18.59l7.72-7.72 1.47 1.35L5.41 20z\"/>\n",
              "  </svg>\n",
              "      </button>\n",
              "      \n",
              "  <style>\n",
              "    .colab-df-container {\n",
              "      display:flex;\n",
              "      flex-wrap:wrap;\n",
              "      gap: 12px;\n",
              "    }\n",
              "\n",
              "    .colab-df-convert {\n",
              "      background-color: #E8F0FE;\n",
              "      border: none;\n",
              "      border-radius: 50%;\n",
              "      cursor: pointer;\n",
              "      display: none;\n",
              "      fill: #1967D2;\n",
              "      height: 32px;\n",
              "      padding: 0 0 0 0;\n",
              "      width: 32px;\n",
              "    }\n",
              "\n",
              "    .colab-df-convert:hover {\n",
              "      background-color: #E2EBFA;\n",
              "      box-shadow: 0px 1px 2px rgba(60, 64, 67, 0.3), 0px 1px 3px 1px rgba(60, 64, 67, 0.15);\n",
              "      fill: #174EA6;\n",
              "    }\n",
              "\n",
              "    [theme=dark] .colab-df-convert {\n",
              "      background-color: #3B4455;\n",
              "      fill: #D2E3FC;\n",
              "    }\n",
              "\n",
              "    [theme=dark] .colab-df-convert:hover {\n",
              "      background-color: #434B5C;\n",
              "      box-shadow: 0px 1px 3px 1px rgba(0, 0, 0, 0.15);\n",
              "      filter: drop-shadow(0px 1px 2px rgba(0, 0, 0, 0.3));\n",
              "      fill: #FFFFFF;\n",
              "    }\n",
              "  </style>\n",
              "\n",
              "      <script>\n",
              "        const buttonEl =\n",
              "          document.querySelector('#df-0f6574c4-fbe3-4d57-b855-a81b7938807b button.colab-df-convert');\n",
              "        buttonEl.style.display =\n",
              "          google.colab.kernel.accessAllowed ? 'block' : 'none';\n",
              "\n",
              "        async function convertToInteractive(key) {\n",
              "          const element = document.querySelector('#df-0f6574c4-fbe3-4d57-b855-a81b7938807b');\n",
              "          const dataTable =\n",
              "            await google.colab.kernel.invokeFunction('convertToInteractive',\n",
              "                                                     [key], {});\n",
              "          if (!dataTable) return;\n",
              "\n",
              "          const docLinkHtml = 'Like what you see? Visit the ' +\n",
              "            '<a target=\"_blank\" href=https://colab.research.google.com/notebooks/data_table.ipynb>data table notebook</a>'\n",
              "            + ' to learn more about interactive tables.';\n",
              "          element.innerHTML = '';\n",
              "          dataTable['output_type'] = 'display_data';\n",
              "          await google.colab.output.renderOutput(dataTable, element);\n",
              "          const docLink = document.createElement('div');\n",
              "          docLink.innerHTML = docLinkHtml;\n",
              "          element.appendChild(docLink);\n",
              "        }\n",
              "      </script>\n",
              "    </div>\n",
              "  </div>\n",
              "  "
            ]
          },
          "metadata": {},
          "execution_count": 17
        }
      ],
      "source": [
        "columns = ['Dataset', '#cycle', 'Capacity(max_discharge)', 'RGB']\n",
        "df = pd.DataFrame({'Dataset':title_list, '#cycle' : cycle_list, 'Capacity(dis)' : cap_list, 'SOH' : soh_list, 'RGB' : rgb_list, 'scaled_RGB' : scaled_rgb, 'RGB_length' : rgb_length_padd} )\n",
        "df"
      ]
    },
    {
      "cell_type": "markdown",
      "id": "823cae5a",
      "metadata": {
        "id": "823cae5a"
      },
      "source": [
        "## 3. Remove outliers"
      ]
    },
    {
      "cell_type": "code",
      "execution_count": 18,
      "id": "9a9fad07",
      "metadata": {
        "colab": {
          "base_uri": "https://localhost:8080/",
          "height": 448
        },
        "id": "9a9fad07",
        "outputId": "06a117a0-c623-4cc6-bc83-8bf445ab7e55"
      },
      "outputs": [
        {
          "output_type": "execute_result",
          "data": {
            "text/plain": [
              "[<matplotlib.lines.Line2D at 0x7f532700dea0>]"
            ]
          },
          "metadata": {},
          "execution_count": 18
        },
        {
          "output_type": "display_data",
          "data": {
            "text/plain": [
              "<Figure size 640x480 with 1 Axes>"
            ],
            "image/png": "[encoded data removed]"
          },
          "metadata": {}
        }
      ],
      "source": [
        "plt.plot(df['SOH'])"
      ]
    },
    {
      "cell_type": "code",
      "execution_count": 19,
      "id": "4dcaeb03",
      "metadata": {
        "colab": {
          "base_uri": "https://localhost:8080/",
          "height": 448
        },
        "id": "4dcaeb03",
        "outputId": "2100c029-a009-4bc6-a002-d6173b184808"
      },
      "outputs": [
        {
          "output_type": "execute_result",
          "data": {
            "text/plain": [
              "(0.75, 1.9311531007751939)"
            ]
          },
          "metadata": {},
          "execution_count": 19
        },
        {
          "output_type": "display_data",
          "data": {
            "text/plain": [
              "<Figure size 640x480 with 1 Axes>"
            ],
            "image/png": "[encoded data removed]"
          },
          "metadata": {}
        }
      ],
      "source": [
        "df2 = df[df['RGB_length'] < 125]\n",
        "df2 = df2[df2['RGB_length'] > 70]\n",
        "df2['SOH'].plot()\n",
        "plt.ylim(0.75,)"
      ]
    },
    {
      "cell_type": "code",
      "execution_count": 20,
      "id": "1d2fe596",
      "metadata": {
        "colab": {
          "base_uri": "https://localhost:8080/",
          "height": 448
        },
        "id": "1d2fe596",
        "outputId": "e7625fc6-cddc-4271-f2f8-881edf8c1e0d"
      },
      "outputs": [
        {
          "output_type": "execute_result",
          "data": {
            "text/plain": [
              "<Axes: >"
            ]
          },
          "metadata": {},
          "execution_count": 20
        },
        {
          "output_type": "display_data",
          "data": {
            "text/plain": [
              "<Figure size 640x480 with 1 Axes>"
            ],
            "image/png": "[encoded data removed]"
          },
          "metadata": {}
        }
      ],
      "source": [
        "df2 = df2[df2['SOH'] <1.25]\n",
        "df2 = df2[df2['SOH'] > 0.75]\n",
        "df2['SOH'].plot()"
      ]
    },
    {
      "cell_type": "code",
      "execution_count": 21,
      "id": "ecde0fff",
      "metadata": {
        "id": "ecde0fff"
      },
      "outputs": [],
      "source": [
        "rgb_list = df2['RGB'].tolist()\n",
        "scaled_rgb_list = df2['scaled_RGB'].tolist()"
      ]
    },
    {
      "cell_type": "markdown",
      "id": "064956cc",
      "metadata": {
        "id": "064956cc"
      },
      "source": [
        "# 4. Resize to unify the dimension"
      ]
    },
    {
      "cell_type": "code",
      "execution_count": 22,
      "id": "0a27d341",
      "metadata": {
        "id": "0a27d341"
      },
      "outputs": [],
      "source": [
        "rgb_list_resized = []\n",
        "for i in rgb_list :\n",
        "    resized = cv.resize(np.array(i), dsize = (3,128), interpolation  = cv.INTER_AREA)\n",
        "    rgb_list_resized.append(resized.tolist())"
      ]
    },
    {
      "cell_type": "code",
      "execution_count": 23,
      "id": "0f59e31b",
      "metadata": {
        "id": "0f59e31b"
      },
      "outputs": [],
      "source": [
        "rgb_list_resized_scaled = []\n",
        "for i in rgb_list_resized :\n",
        "    r = np.array(i)[:,0].tolist()\n",
        "    g = np.array(i)[:,1].tolist()\n",
        "    b = np.array(i)[:,2].tolist()\n",
        "\n",
        "    r2 = scaler.fit_transform(np.array(r).reshape(-1,1)).reshape(1,-1).tolist()[0]\n",
        "    g2 = scaler.fit_transform(np.array(g).reshape(-1,1)).reshape(1,-1).tolist()[0]\n",
        "    b2 = scaler.fit_transform(np.array(b).reshape(-1,1)).reshape(1,-1).tolist()[0]\n",
        "    r2b2g2 = [(int(r2[cnt]*255), int(g2[cnt]*255), int(b2[cnt]*255)) for cnt in range(len(r2))]\n",
        "    rgb_list_resized_scaled.append(r2b2g2)"
      ]
    },
    {
      "cell_type": "code",
      "execution_count": 24,
      "id": "12673ce4",
      "metadata": {
        "scrolled": true,
        "colab": {
          "base_uri": "https://localhost:8080/",
          "height": 1000
        },
        "id": "12673ce4",
        "outputId": "e4abbef3-c4e6-4bcd-d521-ced3dc903fd2"
      },
      "outputs": [
        {
          "output_type": "display_data",
          "data": {
            "text/plain": [
              "<Figure size 1200x1200 with 1 Axes>"
            ],
            "image/png": "[encoded data removed]"
          },
          "metadata": {}
        },
        {
          "output_type": "execute_result",
          "data": {
            "text/plain": [
              "Text(0.5, 1.0, 'resized')"
            ]
          },
          "metadata": {},
          "execution_count": 24
        },
        {
          "output_type": "display_data",
          "data": {
            "text/plain": [
              "<Figure size 1200x1200 with 1 Axes>"
            ],
            "image/png": "[encoded data removed]"
          },
          "metadata": {}
        }
      ],
      "source": [
        "plt.figure(figsize=(12,12))\n",
        "plt.imshow([scaled_rgb_list[0] for i in range(100)])\n",
        "plt.title('raw')\n",
        "plt.show()\n",
        "plt.figure(figsize=(12,12))\n",
        "plt.imshow([rgb_list_resized_scaled[0] for i in range(100)])\n",
        "plt.title('resized')"
      ]
    },
    {
      "cell_type": "code",
      "execution_count": 25,
      "id": "ee33fb2a",
      "metadata": {
        "id": "ee33fb2a"
      },
      "outputs": [],
      "source": [
        "df2['resized'] = rgb_list_resized\n",
        "df2['resized_scaled'] = rgb_list_resized_scaled"
      ]
    },
    {
      "cell_type": "code",
      "execution_count": 26,
      "id": "4b9fc93b",
      "metadata": {
        "colab": {
          "base_uri": "https://localhost:8080/",
          "height": 432
        },
        "id": "4b9fc93b",
        "outputId": "6af8d653-0539-4eda-d8c4-fcaa541f1cfd"
      },
      "outputs": [
        {
          "output_type": "execute_result",
          "data": {
            "text/plain": [
              "[<matplotlib.lines.Line2D at 0x7f5324e50f40>]"
            ]
          },
          "metadata": {},
          "execution_count": 26
        },
        {
          "output_type": "display_data",
          "data": {
            "text/plain": [
              "<Figure size 1000x500 with 1 Axes>"
            ],
            "image/png": "[encoded data removed]"
          },
          "metadata": {}
        }
      ],
      "source": [
        "plt.figure(figsize = (10,5))\n",
        "plt.plot(np.array(rgb_list_resized_scaled[0])[:,0])"
      ]
    },
    {
      "cell_type": "code",
      "execution_count": 27,
      "id": "68ecb2b7",
      "metadata": {
        "colab": {
          "base_uri": "https://localhost:8080/",
          "height": 704
        },
        "id": "68ecb2b7",
        "outputId": "6839fb77-5aa5-4640-df3e-b7e7f9753225"
      },
      "outputs": [
        {
          "output_type": "execute_result",
          "data": {
            "text/plain": [
              "            Dataset  #cycle  Capacity(dis)  SOH  \\\n",
              "4  LFP_25C_0.5-1C_a       5          1.032  1.0   \n",
              "5  LFP_25C_0.5-1C_a       6          1.032  1.0   \n",
              "6  LFP_25C_0.5-1C_a       7          1.032  1.0   \n",
              "7  LFP_25C_0.5-1C_a       8          1.032  1.0   \n",
              "8  LFP_25C_0.5-1C_a       9          1.032  1.0   \n",
              "\n",
              "                                                 RGB  \\\n",
              "4  [(2.956, 0.549, 26.425), (3.089, 0.549, 25.998...   \n",
              "5  [(2.957, 0.549, 26.319), (3.09, 0.549, 25.983)...   \n",
              "6  [(2.957, 0.549, 26.334), (3.09, 0.549, 25.937)...   \n",
              "7  [(2.957, 0.549, 26.487), (3.09, 0.549, 25.952)...   \n",
              "8  [(2.957, 0.549, 26.242), (3.09, 0.549, 25.937)...   \n",
              "\n",
              "                                          scaled_RGB  RGB_length  \\\n",
              "4  [(152, 255, 237), (174, 255, 170), (187, 255, ...          91   \n",
              "5  [(153, 255, 227), (174, 255, 172), (187, 255, ...          91   \n",
              "6  [(152, 255, 216), (173, 255, 153), (186, 255, ...          91   \n",
              "7  [(152, 255, 239), (173, 255, 164), (186, 255, ...          91   \n",
              "8  [(152, 255, 208), (173, 255, 160), (186, 255, ...          91   \n",
              "\n",
              "                                             resized  \\\n",
              "4  [[2.956, 0.549, 26.425], [3.0349230801463127, ...   \n",
              "5  [[2.957, 0.549, 26.319], [3.0359230801463126, ...   \n",
              "6  [[2.957, 0.549, 26.334], [3.0359230801463126, ...   \n",
              "7  [[2.957, 0.549, 26.487], [3.0359230801463126, ...   \n",
              "8  [[2.957, 0.549, 26.242], [3.0359230801463126, ...   \n",
              "\n",
              "                                      resized_scaled  \n",
              "4  [(153, 254, 242), (165, 254, 201), (176, 254, ...  \n",
              "5  [(153, 254, 229), (165, 254, 196), (176, 254, ...  \n",
              "6  [(152, 254, 216), (165, 254, 178), (176, 254, ...  \n",
              "7  [(152, 254, 239), (165, 254, 194), (176, 254, ...  \n",
              "8  [(152, 254, 211), (165, 254, 182), (176, 254, ...  "
            ],
            "text/html": [
              "\n",
              "  <div id=\"df-4ea3f927-3e88-4c82-ad38-afd7b94aa9c4\">\n",
              "    <div class=\"colab-df-container\">\n",
              "      <div>\n",
              "<style scoped>\n",
              "    .dataframe tbody tr th:only-of-type {\n",
              "        vertical-align: middle;\n",
              "    }\n",
              "\n",
              "    .dataframe tbody tr th {\n",
              "        vertical-align: top;\n",
              "    }\n",
              "\n",
              "    .dataframe thead th {\n",
              "        text-align: right;\n",
              "    }\n",
              "</style>\n",
              "<table border=\"1\" class=\"dataframe\">\n",
              "  <thead>\n",
              "    <tr style=\"text-align: right;\">\n",
              "      <th></th>\n",
              "      <th>Dataset</th>\n",
              "      <th>#cycle</th>\n",
              "      <th>Capacity(dis)</th>\n",
              "      <th>SOH</th>\n",
              "      <th>RGB</th>\n",
              "      <th>scaled_RGB</th>\n",
              "      <th>RGB_length</th>\n",
              "      <th>resized</th>\n",
              "      <th>resized_scaled</th>\n",
              "    </tr>\n",
              "  </thead>\n",
              "  <tbody>\n",
              "    <tr>\n",
              "      <th>4</th>\n",
              "      <td>LFP_25C_0.5-1C_a</td>\n",
              "      <td>5</td>\n",
              "      <td>1.032</td>\n",
              "      <td>1.0</td>\n",
              "      <td>[(2.956, 0.549, 26.425), (3.089, 0.549, 25.998...</td>\n",
              "      <td>[(152, 255, 237), (174, 255, 170), (187, 255, ...</td>\n",
              "      <td>91</td>\n",
              "      <td>[[2.956, 0.549, 26.425], [3.0349230801463127, ...</td>\n",
              "      <td>[(153, 254, 242), (165, 254, 201), (176, 254, ...</td>\n",
              "    </tr>\n",
              "    <tr>\n",
              "      <th>5</th>\n",
              "      <td>LFP_25C_0.5-1C_a</td>\n",
              "      <td>6</td>\n",
              "      <td>1.032</td>\n",
              "      <td>1.0</td>\n",
              "      <td>[(2.957, 0.549, 26.319), (3.09, 0.549, 25.983)...</td>\n",
              "      <td>[(153, 255, 227), (174, 255, 172), (187, 255, ...</td>\n",
              "      <td>91</td>\n",
              "      <td>[[2.957, 0.549, 26.319], [3.0359230801463126, ...</td>\n",
              "      <td>[(153, 254, 229), (165, 254, 196), (176, 254, ...</td>\n",
              "    </tr>\n",
              "    <tr>\n",
              "      <th>6</th>\n",
              "      <td>LFP_25C_0.5-1C_a</td>\n",
              "      <td>7</td>\n",
              "      <td>1.032</td>\n",
              "      <td>1.0</td>\n",
              "      <td>[(2.957, 0.549, 26.334), (3.09, 0.549, 25.937)...</td>\n",
              "      <td>[(152, 255, 216), (173, 255, 153), (186, 255, ...</td>\n",
              "      <td>91</td>\n",
              "      <td>[[2.957, 0.549, 26.334], [3.0359230801463126, ...</td>\n",
              "      <td>[(152, 254, 216), (165, 254, 178), (176, 254, ...</td>\n",
              "    </tr>\n",
              "    <tr>\n",
              "      <th>7</th>\n",
              "      <td>LFP_25C_0.5-1C_a</td>\n",
              "      <td>8</td>\n",
              "      <td>1.032</td>\n",
              "      <td>1.0</td>\n",
              "      <td>[(2.957, 0.549, 26.487), (3.09, 0.549, 25.952)...</td>\n",
              "      <td>[(152, 255, 239), (173, 255, 164), (186, 255, ...</td>\n",
              "      <td>91</td>\n",
              "      <td>[[2.957, 0.549, 26.487], [3.0359230801463126, ...</td>\n",
              "      <td>[(152, 254, 239), (165, 254, 194), (176, 254, ...</td>\n",
              "    </tr>\n",
              "    <tr>\n",
              "      <th>8</th>\n",
              "      <td>LFP_25C_0.5-1C_a</td>\n",
              "      <td>9</td>\n",
              "      <td>1.032</td>\n",
              "      <td>1.0</td>\n",
              "      <td>[(2.957, 0.549, 26.242), (3.09, 0.549, 25.937)...</td>\n",
              "      <td>[(152, 255, 208), (173, 255, 160), (186, 255, ...</td>\n",
              "      <td>91</td>\n",
              "      <td>[[2.957, 0.549, 26.242], [3.0359230801463126, ...</td>\n",
              "      <td>[(152, 254, 211), (165, 254, 182), (176, 254, ...</td>\n",
              "    </tr>\n",
              "  </tbody>\n",
              "</table>\n",
              "</div>\n",
              "      <button class=\"colab-df-convert\" onclick=\"convertToInteractive('df-4ea3f927-3e88-4c82-ad38-afd7b94aa9c4')\"\n",
              "              title=\"Convert this dataframe to an interactive table.\"\n",
              "              style=\"display:none;\">\n",
              "        \n",
              "  <svg xmlns=\"http://www.w3.org/2000/svg\" height=\"24px\"viewBox=\"0 0 24 24\"\n",
              "       width=\"24px\">\n",
              "    <path d=\"M0 0h24v24H0V0z\" fill=\"none\"/>\n",
              "    <path d=\"M18.56 5.44l.94 2.06.94-2.06 2.06-.94-2.06-.94-.94-2.06-.94 2.06-2.06.94zm-11 1L8.5 8.5l.94-2.06 2.06-.94-2.06-.94L8.5 2.5l-.94 2.06-2.06.94zm10 10l.94 2.06.94-2.06 2.06-.94-2.06-.94-.94-2.06-.94 2.06-2.06.94z\"/><path d=\"M17.41 7.96l-1.37-1.37c-.4-.4-.92-.59-1.43-.59-.52 0-1.04.2-1.43.59L10.3 9.45l-7.72 7.72c-.78.78-.78 2.05 0 2.83L4 21.41c.39.39.9.59 1.41.59.51 0 1.02-.2 1.41-.59l7.78-7.78 2.81-2.81c.8-.78.8-2.07 0-2.86zM5.41 20L4 18.59l7.72-7.72 1.47 1.35L5.41 20z\"/>\n",
              "  </svg>\n",
              "      </button>\n",
              "      \n",
              "  <style>\n",
              "    .colab-df-container {\n",
              "      display:flex;\n",
              "      flex-wrap:wrap;\n",
              "      gap: 12px;\n",
              "    }\n",
              "\n",
              "    .colab-df-convert {\n",
              "      background-color: #E8F0FE;\n",
              "      border: none;\n",
              "      border-radius: 50%;\n",
              "      cursor: pointer;\n",
              "      display: none;\n",
              "      fill: #1967D2;\n",
              "      height: 32px;\n",
              "      padding: 0 0 0 0;\n",
              "      width: 32px;\n",
              "    }\n",
              "\n",
              "    .colab-df-convert:hover {\n",
              "      background-color: #E2EBFA;\n",
              "      box-shadow: 0px 1px 2px rgba(60, 64, 67, 0.3), 0px 1px 3px 1px rgba(60, 64, 67, 0.15);\n",
              "      fill: #174EA6;\n",
              "    }\n",
              "\n",
              "    [theme=dark] .colab-df-convert {\n",
              "      background-color: #3B4455;\n",
              "      fill: #D2E3FC;\n",
              "    }\n",
              "\n",
              "    [theme=dark] .colab-df-convert:hover {\n",
              "      background-color: #434B5C;\n",
              "      box-shadow: 0px 1px 3px 1px rgba(0, 0, 0, 0.15);\n",
              "      filter: drop-shadow(0px 1px 2px rgba(0, 0, 0, 0.3));\n",
              "      fill: #FFFFFF;\n",
              "    }\n",
              "  </style>\n",
              "\n",
              "      <script>\n",
              "        const buttonEl =\n",
              "          document.querySelector('#df-4ea3f927-3e88-4c82-ad38-afd7b94aa9c4 button.colab-df-convert');\n",
              "        buttonEl.style.display =\n",
              "          google.colab.kernel.accessAllowed ? 'block' : 'none';\n",
              "\n",
              "        async function convertToInteractive(key) {\n",
              "          const element = document.querySelector('#df-4ea3f927-3e88-4c82-ad38-afd7b94aa9c4');\n",
              "          const dataTable =\n",
              "            await google.colab.kernel.invokeFunction('convertToInteractive',\n",
              "                                                     [key], {});\n",
              "          if (!dataTable) return;\n",
              "\n",
              "          const docLinkHtml = 'Like what you see? Visit the ' +\n",
              "            '<a target=\"_blank\" href=https://colab.research.google.com/notebooks/data_table.ipynb>data table notebook</a>'\n",
              "            + ' to learn more about interactive tables.';\n",
              "          element.innerHTML = '';\n",
              "          dataTable['output_type'] = 'display_data';\n",
              "          await google.colab.output.renderOutput(dataTable, element);\n",
              "          const docLink = document.createElement('div');\n",
              "          docLink.innerHTML = docLinkHtml;\n",
              "          element.appendChild(docLink);\n",
              "        }\n",
              "      </script>\n",
              "    </div>\n",
              "  </div>\n",
              "  "
            ]
          },
          "metadata": {},
          "execution_count": 27
        }
      ],
      "source": [
        "df2.head()"
      ]
    },
    {
      "cell_type": "code",
      "execution_count": 28,
      "id": "0e6e1693",
      "metadata": {
        "id": "0e6e1693"
      },
      "outputs": [],
      "source": [
        "#df2.to_csv('/home/sbml/battery_rgb/220610/resize_not_intepolate/example_for_github/T25_only_case_a.csv')"
      ]
    },
    {
      "cell_type": "code",
      "execution_count": 28,
      "id": "3a883c73",
      "metadata": {
        "id": "3a883c73"
      },
      "outputs": [],
      "source": []
    },
    {
      "cell_type": "code",
      "execution_count": 28,
      "id": "1a6f62bc",
      "metadata": {
        "id": "1a6f62bc"
      },
      "outputs": [],
      "source": []
    },
    {
      "cell_type": "code",
      "execution_count": 28,
      "id": "03c37766",
      "metadata": {
        "id": "03c37766"
      },
      "outputs": [],
      "source": []
    }
  ],
  "metadata": {
    "kernelspec": {
      "display_name": "Python 3",
      "language": "python",
      "name": "python3"
    },
    "language_info": {
      "codemirror_mode": {
        "name": "ipython",
        "version": 3
      },
      "file_extension": ".py",
      "mimetype": "text/x-python",
      "name": "python",
      "nbconvert_exporter": "python",
      "pygments_lexer": "ipython3",
      "version": "3.8.8"
    },
    "colab": {
      "provenance": [],
      "include_colab_link": true
    }
  },
  "nbformat": 4,
  "nbformat_minor": 5
}